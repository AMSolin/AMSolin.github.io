{
 "cells": [
  {
   "cell_type": "code",
   "execution_count": 22,
   "metadata": {
    "_cell_guid": "79c7e3d0-c299-4dcb-8224-4455121ee9b0",
    "_uuid": "d629ff2d2480ee46fbb7e2d37f6b5fab8052498a"
   },
   "outputs": [],
   "source": [
    "import numpy as np\n",
    "import pandas as pd\n",
    "from matplotlib import pyplot as plt\n",
    "import seaborn as sns\n",
    "from sklearn.metrics import classification_report\n",
    "from sklearn.metrics import accuracy_score\n",
    "from sklearn.model_selection import train_test_split\n",
    "import lightgbm as lgb\n",
    "from sklearn import metrics"
   ]
  },
  {
   "cell_type": "code",
   "execution_count": 23,
   "metadata": {},
   "outputs": [],
   "source": [
    "train_df, test_df = pd.read_csv('train.csv'), pd.read_csv('test.csv')"
   ]
  },
  {
   "cell_type": "code",
   "execution_count": 24,
   "metadata": {},
   "outputs": [
    {
     "data": {
      "image/png": "[encoded data removed]",
      "text/plain": [
       "<Figure size 432x288 with 1 Axes>"
      ]
     },
     "metadata": {},
     "output_type": "display_data"
    }
   ],
   "source": [
    "sns.set_style('whitegrid')\n",
    "sns.countplot(x='TARGET', data=train_df).set_title('Target distribution');"
   ]
  },
  {
   "cell_type": "code",
   "execution_count": 25,
   "metadata": {},
   "outputs": [],
   "source": [
    "train_df = train_df.fillna(-9999)\n",
    "test_df = test_df.fillna(-9999)"
   ]
  },
  {
   "cell_type": "code",
   "execution_count": 26,
   "metadata": {},
   "outputs": [],
   "source": [
    "train_y = train_df.pop('TARGET')\n",
    "train_df.drop('ID', axis=1, inplace=True)\n",
    "submission_df = pd.DataFrame(test_df.pop('ID'), columns=['ID'])"
   ]
  },
  {
   "cell_type": "code",
   "execution_count": 27,
   "metadata": {},
   "outputs": [],
   "source": [
    "X_train, X_test, y_train, y_test = train_test_split(train_df, train_y, test_size=0.2, random_state=35, stratify=train_y)"
   ]
  },
  {
   "cell_type": "code",
   "execution_count": 28,
   "metadata": {},
   "outputs": [
    {
     "name": "stdout",
     "output_type": "stream",
     "text": [
      "Training until validation scores don't improve for 300 rounds\n",
      "[100]\tvalid_0's multi_logloss: 0.817881\tvalid_0's macroF1: 0.510912\n",
      "[200]\tvalid_0's multi_logloss: 0.762778\tvalid_0's macroF1: 0.528985\n",
      "[300]\tvalid_0's multi_logloss: 0.733545\tvalid_0's macroF1: 0.539121\n",
      "[400]\tvalid_0's multi_logloss: 0.71598\tvalid_0's macroF1: 0.538375\n",
      "[500]\tvalid_0's multi_logloss: 0.70332\tvalid_0's macroF1: 0.542236\n",
      "[600]\tvalid_0's multi_logloss: 0.694682\tvalid_0's macroF1: 0.541329\n",
      "[700]\tvalid_0's multi_logloss: 0.688686\tvalid_0's macroF1: 0.535792\n",
      "Early stopping, best iteration is:\n",
      "[492]\tvalid_0's multi_logloss: 0.70428\tvalid_0's macroF1: 0.54458\n",
      "\n",
      "LGBMClassifier(boosting_type='gbdt', class_weight='balanced',\n",
      "               colsample_bytree=1.0, importance_type='split',\n",
      "               learning_rate=0.05, max_depth=-1, min_child_samples=20,\n",
      "               min_child_weight=0.001, min_split_gain=0.0, n_estimators=1000,\n",
      "               n_jobs=-1, num_leaves=31, objective='multiclass',\n",
      "               random_state=35, reg_alpha=0.0, reg_lambda=0.0, silent=True,\n",
      "               subsample=1.0, subsample_for_bin=200000, subsample_freq=0)\n"
     ]
    }
   ],
   "source": [
    "from sklearn.metrics import f1_score\n",
    "\n",
    "def evaluate_macroF1_lgb(truth, predictions):  \n",
    "    pred_labels = predictions.reshape(len(np.unique(truth)),-1).argmax(axis=0)\n",
    "    f1 = f1_score(truth, pred_labels, average='macro')\n",
    "    return ('macroF1', f1, True) \n",
    "\n",
    "\n",
    "model = lgb.LGBMClassifier(\n",
    "    random_state = 35,\n",
    "    learning_rate=0.05,\n",
    "    n_estimators=1000,\n",
    "    objective='multiclass',\n",
    "    class_weight='balanced',\n",
    "    n_jobs=-1)\n",
    "model.fit(X_train, y_train,\n",
    "          eval_metric= evaluate_macroF1_lgb,\n",
    "          eval_set= (X_test,\n",
    "                      y_test),\n",
    "          early_stopping_rounds=300,\n",
    "          verbose=100)\n",
    "print(); print(model)"
   ]
  },
  {
   "cell_type": "code",
   "execution_count": 29,
   "metadata": {},
   "outputs": [
    {
     "name": "stdout",
     "output_type": "stream",
     "text": [
      "\n",
      "LightGBM classification report: \n",
      "\n",
      "              precision    recall  f1-score   support\n",
      "\n",
      "           0       0.95      0.91      0.93     17372\n",
      "           1       0.78      0.85      0.81      5650\n",
      "           2       0.78      0.91      0.84      1499\n",
      "\n",
      "    accuracy                           0.89     24521\n",
      "   macro avg       0.84      0.89      0.86     24521\n",
      "weighted avg       0.90      0.89      0.90     24521\n",
      "\n",
      "\n",
      "[[15783  1304   285]\n",
      " [  771  4780    99]\n",
      " [   67    67  1365]]\n"
     ]
    }
   ],
   "source": [
    "expected_y  = train_y\n",
    "predicted_y = model.predict(train_df)\n",
    "print(); print('LightGBM classification report: ')\n",
    "print(); print(metrics.classification_report(expected_y, predicted_y))\n",
    "print(); print(metrics.confusion_matrix(expected_y, predicted_y)) #55"
   ]
  },
  {
   "cell_type": "code",
   "execution_count": 30,
   "metadata": {},
   "outputs": [
    {
     "name": "stdout",
     "output_type": "stream",
     "text": [
      "\n",
      "Predicted classes distribution: \n"
     ]
    },
    {
     "data": {
      "text/plain": [
       "0    5770\n",
       "1    2748\n",
       "2     966\n",
       "Name: TARGET, dtype: int64"
      ]
     },
     "execution_count": 30,
     "metadata": {},
     "output_type": "execute_result"
    }
   ],
   "source": [
    "print(); print('Predicted classes distribution: ')\n",
    "pred_y = model.predict(test_df)\n",
    "submission_df['TARGET'] = pred_y\n",
    "sub_file = 'contest_answer.csv'\n",
    "submission_df.to_csv(sub_file, index=False)\n",
    "\n",
    "submission_df['TARGET'].value_counts()"
   ]
  },
  {
   "cell_type": "code",
   "execution_count": 31,
   "metadata": {},
   "outputs": [],
   "source": [
    "pred_proba_y = model.predict_proba(test_df)\n",
    "submission_df = pd.concat([submission_df, pd.DataFrame(pred_proba_y, columns=[\"Proba_0\", \"Proba_1\",\"Proba_2\"])], axis=1)"
   ]
  },
  {
   "cell_type": "code",
   "execution_count": 32,
   "metadata": {},
   "outputs": [],
   "source": [
    "seg_1 = submission_df[submission_df['TARGET'] == 0].copy()\n",
    "seg_2 = submission_df[submission_df['TARGET'] == 1].copy()\n",
    "seg_3 = submission_df[submission_df['TARGET'] == 2].copy()\n",
    "\n",
    "seg_1_cut = seg_1.sort_values(by=['Proba_0'], ascending=False)[:1000]\n",
    "seg_2_cut = seg_2.sort_values(by=['Proba_1'], ascending=False)[:500]\n",
    "seg_3_cut = seg_3.sort_values(by=['Proba_2'], ascending=False)[:200]\n",
    "\n",
    "submission_df2 = pd.concat([seg_1_cut, seg_2_cut, seg_3_cut])"
   ]
  },
  {
   "cell_type": "code",
   "execution_count": 33,
   "metadata": {},
   "outputs": [],
   "source": [
    "submission_df2.drop(['Proba_0', 'Proba_1', 'Proba_2'], axis=1, inplace=True)\n",
    "sub_file2 = 'contest_segments.csv'\n",
    "submission_df2.to_csv(sub_file2, index=False)"
   ]
  }
 ],
 "metadata": {
  "kernelspec": {
   "display_name": "Python 3",
   "language": "python",
   "name": "python3"
  },
  "language_info": {
   "codemirror_mode": {
    "name": "ipython",
    "version": 3
   },
   "file_extension": ".py",
   "mimetype": "text/x-python",
   "name": "python",
   "nbconvert_exporter": "python",
   "pygments_lexer": "ipython3",
   "version": "3.7.4"
  }
 },
 "nbformat": 4,
 "nbformat_minor": 1
}
